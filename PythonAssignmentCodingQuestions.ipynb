{
 "cells": [
  {
   "cell_type": "markdown",
   "id": "93763726-aa74-4254-a0e7-019912065a06",
   "metadata": {},
   "source": [
    "1. Write a Python function that takes a list of numbers as input and returns the sum of all even numbers in\n",
    "the list"
   ]
  },
  {
   "cell_type": "code",
   "execution_count": 27,
   "id": "6d37d8a9-28be-4d4c-a4cf-d9a2aa4643d4",
   "metadata": {},
   "outputs": [
    {
     "name": "stdout",
     "output_type": "stream",
     "text": [
      "20\n"
     ]
    }
   ],
   "source": [
    "def sum_of_even_numbers(numbers):\n",
    "    even_sum = 0\n",
    "    for num in numbers:\n",
    "      if num % 2 == 0:\n",
    "        even_sum += num\n",
    "    return even_sum\n",
    "\n",
    "my_list = [1, 2, 3, 4, 5, 6, 7, 8, 9]\n",
    "result = sum_of_even_numbers(my_list)\n",
    "print(result)"
   ]
  },
  {
   "cell_type": "markdown",
   "id": "301d0aa1-1ad3-4a1e-9854-f7184782fefb",
   "metadata": {},
   "source": [
    "2. Create a Python function that accepts a string and returns the reverse of that string."
   ]
  },
  {
   "cell_type": "code",
   "execution_count": 28,
   "id": "cb55ea1b-c7cf-4ee0-a34c-81db41494fa3",
   "metadata": {},
   "outputs": [
    {
     "name": "stdout",
     "output_type": "stream",
     "text": [
      "dlrow olleh\n"
     ]
    }
   ],
   "source": [
    "def reverse_string(string):\n",
    "    return string[::-1]\n",
    "\n",
    "my_string = \"hello world\"\n",
    "reversed_string = reverse_string(my_string)\n",
    "print(reversed_string) "
   ]
  },
  {
   "cell_type": "markdown",
   "id": "c2953a75-5494-46bd-9729-c7de43a423e9",
   "metadata": {},
   "source": [
    "3. Implement a Python function that takes a list of integers and returns a new list containing the squares of\n",
    "each number."
   ]
  },
  {
   "cell_type": "code",
   "execution_count": 29,
   "id": "675525f3-5258-4041-a7a7-30ef7d4c7876",
   "metadata": {},
   "outputs": [
    {
     "name": "stdout",
     "output_type": "stream",
     "text": [
      "[1, 4, 9, 16, 25]\n"
     ]
    }
   ],
   "source": [
    "def square_list(numbers):\n",
    "    squared_list = []\n",
    "    for num in numbers:\n",
    "      squared_list.append(num ** 2)\n",
    "    return squared_list\n",
    "\n",
    "my_list = [1, 2, 3, 4, 5]\n",
    "result = square_list(my_list)\n",
    "print(result)"
   ]
  },
  {
   "cell_type": "markdown",
   "id": "cf571a69-6db1-49f1-80d4-d8fa981a27e9",
   "metadata": {},
   "source": [
    "4. Write a Python function that checks if a given number is prime or not from 1 to 200."
   ]
  },
  {
   "cell_type": "code",
   "execution_count": 30,
   "id": "25704647-9e7f-42bc-b519-edd0a1dd7f29",
   "metadata": {},
   "outputs": [
    {
     "name": "stdout",
     "output_type": "stream",
     "text": [
      "2 is prime\n",
      "3 is prime\n",
      "5 is prime\n",
      "7 is prime\n",
      "11 is prime\n",
      "13 is prime\n",
      "17 is prime\n",
      "19 is prime\n",
      "23 is prime\n",
      "29 is prime\n",
      "31 is prime\n",
      "37 is prime\n",
      "41 is prime\n",
      "43 is prime\n",
      "47 is prime\n",
      "53 is prime\n",
      "59 is prime\n",
      "61 is prime\n",
      "67 is prime\n",
      "71 is prime\n",
      "73 is prime\n",
      "79 is prime\n",
      "83 is prime\n",
      "89 is prime\n",
      "97 is prime\n",
      "101 is prime\n",
      "103 is prime\n",
      "107 is prime\n",
      "109 is prime\n",
      "113 is prime\n",
      "127 is prime\n",
      "131 is prime\n",
      "137 is prime\n",
      "139 is prime\n",
      "149 is prime\n",
      "151 is prime\n",
      "157 is prime\n",
      "163 is prime\n",
      "167 is prime\n",
      "173 is prime\n",
      "179 is prime\n",
      "181 is prime\n",
      "191 is prime\n",
      "193 is prime\n",
      "197 is prime\n",
      "199 is prime\n"
     ]
    }
   ],
   "source": [
    "def is_prime(num):\n",
    "    if num <= 1:\n",
    "     return False\n",
    "    if num <= 3:\n",
    "      return True\n",
    "      \n",
    "    if num % 2 == 0 or num % 3 == 0:\n",
    "      return False\n",
    "      \n",
    "    i = 5\n",
    "    while i * i <= num:\n",
    "      if num % i == 0 or num % (i + 2) == 0:\n",
    "        return False\n",
    "      i += 6\n",
    "    return True\n",
    "\n",
    "for num in range(1, 201):\n",
    "  if is_prime(num):\n",
    "    print(num, \"is prime\")"
   ]
  },
  {
   "cell_type": "markdown",
   "id": "01c01a31-54f3-4d5f-b6e8-690dca0215e3",
   "metadata": {},
   "source": [
    "5. Create an iterator class in Python that generates the Fibonacci sequence up to a specified number of\n",
    "terms."
   ]
  },
  {
   "cell_type": "code",
   "execution_count": 31,
   "id": "67cc1169-3c17-4e60-9f0a-d3e9aa0f7d9b",
   "metadata": {},
   "outputs": [
    {
     "name": "stdout",
     "output_type": "stream",
     "text": [
      "1\n",
      "1\n",
      "2\n",
      "3\n",
      "5\n",
      "8\n",
      "13\n",
      "21\n",
      "34\n",
      "55\n"
     ]
    }
   ],
   "source": [
    "class FibonacciIterator:\n",
    "    \n",
    "    def __init__(self, max_terms):\n",
    "    \n",
    "        self.max_terms = max_terms\n",
    "        self.current_term = 0\n",
    "        self.previous_term = 0\n",
    "        self.next_term = 1\n",
    "\n",
    "    def __iter__(self):\n",
    "        return self\n",
    "\n",
    "    def __next__(self):\n",
    "        if self.current_term >= self.max_terms:\n",
    "            raise StopIteration\n",
    "\n",
    "        self.current_term += 1\n",
    "        self.previous_term, self.next_term = self.next_term, self.previous_term + self.next_term\n",
    "        return self.previous_term\n",
    "\n",
    "\n",
    "for num in FibonacciIterator(10):\n",
    "    print(num)\n"
   ]
  },
  {
   "cell_type": "markdown",
   "id": "16b1edbc-68b5-47ff-86b5-6f2a1bc47ff8",
   "metadata": {},
   "source": [
    "6. Write a generator function in Python that yields the powers of 2 up to a given exponent."
   ]
  },
  {
   "cell_type": "code",
   "execution_count": 32,
   "id": "f389d595-a1d0-4015-9744-911c76fa8007",
   "metadata": {},
   "outputs": [
    {
     "name": "stdout",
     "output_type": "stream",
     "text": [
      "1\n",
      "2\n",
      "4\n",
      "8\n",
      "16\n",
      "32\n"
     ]
    }
   ],
   "source": [
    "def powers_of_two(exponent):\n",
    " \n",
    "  base = 1\n",
    "  for _ in range(exponent + 1):\n",
    "    yield base\n",
    "    base *= 2\n",
    "\n",
    "\n",
    "for power in powers_of_two(5):\n",
    "  print(power)\n"
   ]
  },
  {
   "cell_type": "markdown",
   "id": "438f858c-ddfc-40a7-a90d-59bff1801463",
   "metadata": {},
   "source": [
    "7. Implement a generator function that reads a file line by line and yields each line as a string."
   ]
  },
  {
   "cell_type": "code",
   "execution_count": 33,
   "id": "b222d0a5-9118-4249-a957-81c93086a335",
   "metadata": {},
   "outputs": [
    {
     "name": "stdout",
     "output_type": "stream",
     "text": [
      "Hello World. I am Hritik Gaur working on Python Assessment\n"
     ]
    }
   ],
   "source": [
    "def read_file_lines(filename):\n",
    "  \n",
    "  with open(filename, 'r') as file:\n",
    "    for line in file:\n",
    "      yield line.rstrip()  \n",
    "\n",
    "\n",
    "for line in read_file_lines(\"my_file.txt\"):\n",
    "  print(line)\n"
   ]
  },
  {
   "cell_type": "markdown",
   "id": "afbfaef6-d353-4a5e-a1f5-636b26469a07",
   "metadata": {},
   "source": [
    "8. Use a lambda function in Python to sort a list of tuples based on the second element of each tuple"
   ]
  },
  {
   "cell_type": "code",
   "execution_count": 34,
   "id": "6eb44544-e624-4558-97a6-39a3c25b1234",
   "metadata": {},
   "outputs": [
    {
     "name": "stdout",
     "output_type": "stream",
     "text": [
      "[(3, 1), (2, 2), (1, 3)]\n"
     ]
    }
   ],
   "source": [
    "my_list = [(3, 1), (1, 3), (2, 2)]\n",
    "\n",
    "sorted_list = sorted(my_list, key=lambda x: x[1])\n",
    "\n",
    "print(sorted_list)  \n"
   ]
  },
  {
   "cell_type": "markdown",
   "id": "8c34016e-152a-4b44-a44b-0a97c12eb644",
   "metadata": {},
   "source": [
    "9. Write a Python program that uses `map()` to convert a list of temperatures from Celsius to Fahrenheit."
   ]
  },
  {
   "cell_type": "code",
   "execution_count": 35,
   "id": "171d71a4-c31c-4782-aeea-76bdff88e318",
   "metadata": {},
   "outputs": [
    {
     "name": "stdout",
     "output_type": "stream",
     "text": [
      "[32.0, 50.0, 68.0, 86.0]\n"
     ]
    }
   ],
   "source": [
    "def celsius_to_fahrenheit(celsius):\n",
    "    return (celsius * 9/5) + 32\n",
    "\n",
    "temperatures_celsius = [0, 10, 20, 30]\n",
    "temperatures_fahrenheit = list(map(celsius_to_fahrenheit, temperatures_celsius))\n",
    "\n",
    "print(temperatures_fahrenheit)"
   ]
  },
  {
   "cell_type": "markdown",
   "id": "5a7248e8-827d-4e4e-9b99-ebf294d9089a",
   "metadata": {},
   "source": [
    "10. Create a Python program that uses `filter()` to remove all the vowels from a given string."
   ]
  },
  {
   "cell_type": "code",
   "execution_count": 36,
   "id": "6172b943-b97f-41c6-afed-b9a54b9d0a95",
   "metadata": {},
   "outputs": [
    {
     "name": "stdout",
     "output_type": "stream",
     "text": [
      "Hll, Wrld!\n"
     ]
    }
   ],
   "source": [
    "def is_consonant(char):\n",
    "    vowels = \"aeiouAEIOU\"\n",
    "    return char not in vowels\n",
    "\n",
    "my_string = \"Hello, World!\"\n",
    "consonants_only = \"\".join(filter(is_consonant, my_string))\n",
    "print(consonants_only)"
   ]
  },
  {
   "cell_type": "markdown",
   "id": "07280143-19e9-450f-a274-060a409dcaf2",
   "metadata": {},
   "source": [
    "11. Write a Python program, which returns a list with 2-tuples. Each tuple consists of the order number and the\n",
    "product of the price per item and the quantity. The product should be increased by 10,- € if the value of the\n",
    "order is smaller than 100,00 €."
   ]
  },
  {
   "cell_type": "code",
   "execution_count": 37,
   "id": "26f9b130-7221-4970-a617-909b0066188a",
   "metadata": {},
   "outputs": [
    {
     "name": "stdout",
     "output_type": "stream",
     "text": [
      "[(77226, 108.85000000000001), (88112, 84.97)]\n"
     ]
    }
   ],
   "source": [
    "def calculate_order_values(orders):\n",
    "    result = []\n",
    "    for order_number, price, quantity in orders:\n",
    "      value = price * quantity\n",
    "      if value < 100:\n",
    "        value += 10\n",
    "        result.append((order_number, value))\n",
    "    return result\n",
    "\n",
    "orders = [(34587, 40.95, 4), (98762,56.80, 5), (77226,32.95,3),(88112,24.99,3)]\n",
    "order_values = calculate_order_values(orders)\n",
    "print(order_values);\n"
   ]
  },
  {
   "cell_type": "markdown",
   "id": "ef0838e3-d959-4d3c-95fc-f95d5c19cb6d",
   "metadata": {},
   "source": [
    "Write a Python program using lambda and map."
   ]
  },
  {
   "cell_type": "code",
   "execution_count": 38,
   "id": "eaf73fb8-cfc0-488e-b1a5-ed02c1460c88",
   "metadata": {},
   "outputs": [
    {
     "name": "stdout",
     "output_type": "stream",
     "text": [
      "[1, 4, 9, 16, 25]\n"
     ]
    }
   ],
   "source": [
    "numbers = [1, 2, 3, 4, 5]\n",
    "\n",
    "squared_numbers = list(map(lambda x: x**2, numbers))\n",
    "\n",
    "print(squared_numbers)"
   ]
  }
 ],
 "metadata": {
  "kernelspec": {
   "display_name": "Python 3 (ipykernel)",
   "language": "python",
   "name": "python3"
  },
  "language_info": {
   "codemirror_mode": {
    "name": "ipython",
    "version": 3
   },
   "file_extension": ".py",
   "mimetype": "text/x-python",
   "name": "python",
   "nbconvert_exporter": "python",
   "pygments_lexer": "ipython3",
   "version": "3.12.3"
  }
 },
 "nbformat": 4,
 "nbformat_minor": 5
}
